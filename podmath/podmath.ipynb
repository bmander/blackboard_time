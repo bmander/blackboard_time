{
 "cells": [
  {
   "cell_type": "code",
   "execution_count": 1,
   "metadata": {},
   "outputs": [],
   "source": [
    "import numpy as np\n",
    "from matplotlib import pyplot as plt"
   ]
  },
  {
   "cell_type": "markdown",
   "metadata": {},
   "source": [
    "![title](whiteboard/transmission.png)"
   ]
  },
  {
   "cell_type": "markdown",
   "metadata": {},
   "source": [
    "The probability of catching a disease from an individual is the probability that they have it $P_i$, multiplied by the chance that it would be transmitted to you given that they have it $P_t$.\n",
    "\n",
    "$$ P_{single} = P_i P_t $$\n",
    "\n",
    "$P_t$ is the  conductance of the connection between you and the other person. The conductance depends on the environment, and the health and behavior of both parties. This \"conductance\" will vary a great deal but it will be _on average_ higher for more infectious diseases."
   ]
  },
  {
   "cell_type": "markdown",
   "metadata": {},
   "source": [
    "Assuming a uniform $P_t$, the chance of _not_ acquiring the disease from one person is"
   ]
  },
  {
   "cell_type": "markdown",
   "metadata": {},
   "source": [
    "$$ 1-P_{single} $$"
   ]
  },
  {
   "cell_type": "markdown",
   "metadata": {},
   "source": [
    "The chance of not catching it after $n$ \"trial\" of $n$ people is\n",
    "\n",
    "$$ (1-P_{single})^n $$"
   ]
  },
  {
   "cell_type": "markdown",
   "metadata": {},
   "source": [
    "And the chance of not-not catching $P_{i+1}$- that is, catching it from anyone - is the negation of that.\n",
    "\n",
    "$$ P_{i+1} = 1 - (1-P_{single})^n $$"
   ]
  },
  {
   "cell_type": "markdown",
   "metadata": {},
   "source": [
    "To put this in context - the average daily cases of COVID in King County, Washington on November 16, 2020 is 23 in 100k. Assuming half of infections are represented as cases, and infections are transmissible for 10 days, that implies that"
   ]
  },
  {
   "cell_type": "code",
   "execution_count": 3,
   "metadata": {},
   "outputs": [
    {
     "name": "stdout",
     "output_type": "stream",
     "text": [
      "P_i = 0.0046\n"
     ]
    }
   ],
   "source": [
    "P_i = 23*2*10 / 100000\n",
    "print( f\"P_i = {P_i}\")"
   ]
  },
  {
   "cell_type": "markdown",
   "metadata": {},
   "source": [
    "Assuming a conductance $P_t$ of 0.75 of all people in your pod or household, the chance of catching COVID from a pod of size $n$ is:"
   ]
  },
  {
   "cell_type": "code",
   "execution_count": 4,
   "metadata": {},
   "outputs": [],
   "source": [
    "P_t = 0.75\n",
    "\n",
    "def make_P_function(P_i, P_t):\n",
    "    return lambda n: (1-(1-P_i*P_t)**n)"
   ]
  },
  {
   "cell_type": "code",
   "execution_count": 9,
   "metadata": {},
   "outputs": [
    {
     "data": {
      "text/plain": [
       "Text(0.5, 1.0, 'COVID risk by pod size, $P_i=0.0046$')"
      ]
     },
     "execution_count": 9,
     "metadata": {},
     "output_type": "execute_result"
    },
    {
     "data": {
      "image/png": "[encoded data removed]",
      "text/plain": [
       "<Figure size 432x288 with 1 Axes>"
      ]
     },
     "metadata": {
      "needs_background": "light"
     },
     "output_type": "display_data"
    }
   ],
   "source": [
    "n = np.arange(0,1000)\n",
    "\n",
    "P_next = make_P_function(P_i = 0.005, P_t = 0.75)\n",
    "\n",
    "plt.plot(n, P_next(n))\n",
    "plt.xlabel(\"pod size $n$\")\n",
    "plt.ylabel(\"chance of catching The Rona $P_{i+1}$\")\n",
    "plt.title(f\"COVID risk by pod size, $P_i={P_i}$\")"
   ]
  },
  {
   "cell_type": "markdown",
   "metadata": {},
   "source": [
    "The thing is, the probability that _every person you're connected with_ has an infection follows the _same_ rule."
   ]
  },
  {
   "cell_type": "markdown",
   "metadata": {},
   "source": [
    "If a person is connected to five people, each with a _background probability_ of 0.005 (half a percent), and a virus conductance of 0.75, then their probability of contracting the virus is:"
   ]
  },
  {
   "cell_type": "code",
   "execution_count": 10,
   "metadata": {},
   "outputs": [
    {
     "name": "stdout",
     "output_type": "stream",
     "text": [
      "About 1.9%\n"
     ]
    }
   ],
   "source": [
    "P_0 = 0.005\n",
    "P_1 = make_P_function(P_i = P_0, P_t = 0.75)(n=5)\n",
    "print( f\"About {P_1*100:0.1f}%\" )"
   ]
  },
  {
   "cell_type": "markdown",
   "metadata": {},
   "source": [
    "![title](whiteboard/pod.png)"
   ]
  },
  {
   "cell_type": "markdown",
   "metadata": {},
   "source": [
    "If you're in a pod of five of _those people_, then your risk is:"
   ]
  },
  {
   "cell_type": "code",
   "execution_count": 11,
   "metadata": {},
   "outputs": [
    {
     "name": "stdout",
     "output_type": "stream",
     "text": [
      "About 6.8%\n"
     ]
    }
   ],
   "source": [
    "P_2 = make_P_function(P_i = P_1, P_t = 0.75)(n=5)\n",
    "print( f\"About {P_2*100:0.1f}%\" )"
   ]
  },
  {
   "cell_type": "markdown",
   "metadata": {},
   "source": [
    "![title](whiteboard/metapod.png)"
   ]
  },
  {
   "cell_type": "markdown",
   "metadata": {},
   "source": [
    "What if we go _three_ generations?"
   ]
  },
  {
   "cell_type": "code",
   "execution_count": 12,
   "metadata": {},
   "outputs": [
    {
     "name": "stdout",
     "output_type": "stream",
     "text": [
      "About 23.0%\n"
     ]
    }
   ],
   "source": [
    "P_3 = make_P_function(P_i = P_2, P_t = 0.75)(n=5)\n",
    "print( f\"About {P_3*100:0.1f}%\" )"
   ]
  },
  {
   "cell_type": "markdown",
   "metadata": {},
   "source": [
    "About a quarter risk of infection.\n",
    "\n",
    "Six generations outward? This accounts for connection with $5^6$ people, at an attenuation of 75% each generation."
   ]
  },
  {
   "cell_type": "code",
   "execution_count": 14,
   "metadata": {},
   "outputs": [],
   "source": [
    "def find_metapod_risk(P_0, P_t, n, n_generations):\n",
    "    P_i = P_0\n",
    "    for i in range(n_generations):\n",
    "        P_i = make_P_function(P_i = P_i, P_t = P_t)(n)\n",
    "        \n",
    "    return P_i"
   ]
  },
  {
   "cell_type": "code",
   "execution_count": 15,
   "metadata": {},
   "outputs": [
    {
     "data": {
      "text/plain": [
       "0.9981259056034352"
      ]
     },
     "execution_count": 15,
     "metadata": {},
     "output_type": "execute_result"
    }
   ],
   "source": [
    "find_metapod_risk(P_0=0.005, P_t=0.75, n=5, n_generations=6)"
   ]
  },
  {
   "cell_type": "markdown",
   "metadata": {},
   "source": [
    "99.8% probability of infection. What about 100 generations?"
   ]
  },
  {
   "cell_type": "code",
   "execution_count": 16,
   "metadata": {},
   "outputs": [
    {
     "data": {
      "text/plain": [
       "0.9990088318329132"
      ]
     },
     "execution_count": 16,
     "metadata": {},
     "output_type": "execute_result"
    }
   ],
   "source": [
    "find_metapod_risk(P_0=0.005, P_t=0.75, n=5, n_generations=100)"
   ]
  },
  {
   "cell_type": "markdown",
   "metadata": {},
   "source": [
    "**What?** With 100 generations, each expanding by a factor of 5, you would be connected to:"
   ]
  },
  {
   "cell_type": "code",
   "execution_count": 18,
   "metadata": {},
   "outputs": [
    {
     "data": {
      "text/plain": [
       "7888609052210118054117285652827862296732064351090230047702789306640625"
      ]
     },
     "execution_count": 18,
     "metadata": {},
     "output_type": "execute_result"
    }
   ],
   "source": [
    "5**100"
   ]
  },
  {
   "cell_type": "markdown",
   "metadata": {},
   "source": [
    "people. Which is more people than will ever exist. \n",
    "\n",
    "And yet, even then, you wouldn't be guaranteed to catch COVID.\n",
    "\n",
    "Think of it this way - if every person in your pod is _guaranteed_ to have COVID, but the virus conductance is only 0.75, then your chance of getting it is\n",
    "\n",
    "$$ P = 1 - (1-P_{it})^n $$\n",
    "\n",
    "$$ P = 1 - (1-(1 \\cdot 0.75))^5 $$"
   ]
  },
  {
   "cell_type": "code",
   "execution_count": 19,
   "metadata": {},
   "outputs": [
    {
     "data": {
      "text/plain": [
       "0.9990234375"
      ]
     },
     "execution_count": 19,
     "metadata": {},
     "output_type": "execute_result"
    }
   ],
   "source": [
    "1 - (1-.75)**5"
   ]
  },
  {
   "cell_type": "markdown",
   "metadata": {},
   "source": [
    "Which is pretty close to the convergence probability."
   ]
  },
  {
   "cell_type": "markdown",
   "metadata": {},
   "source": [
    "## Let's try some other parameters"
   ]
  },
  {
   "cell_type": "code",
   "execution_count": 31,
   "metadata": {},
   "outputs": [],
   "source": [
    "def make_report(P_0, P_t, n):\n",
    "    P_conv = find_metapod_risk(P_0=P_0, P_t=P_t, n=n, n_generations=1000)\n",
    "\n",
    "    print(f\"Population incidence: {P_0*100}%\")\n",
    "    print(f\"Viral conductance: {P_t*100}%\")\n",
    "    print(f\"Average pod size: {n}\")\n",
    "\n",
    "    print(f\"Convergence probability of infection: {100*P_conv:0.2f}%\")"
   ]
  },
  {
   "cell_type": "code",
   "execution_count": 32,
   "metadata": {},
   "outputs": [
    {
     "name": "stdout",
     "output_type": "stream",
     "text": [
      "Population incidence: 0.5%\n",
      "Viral conductance: 50.0%\n",
      "Average pod size: 5\n",
      "Convergence probability of infection: 96.24%\n"
     ]
    }
   ],
   "source": [
    "P_0=0.005\n",
    "P_t=0.5\n",
    "n=5\n",
    "\n",
    "make_report(P_0, P_t, n)"
   ]
  },
  {
   "cell_type": "code",
   "execution_count": 33,
   "metadata": {},
   "outputs": [
    {
     "name": "stdout",
     "output_type": "stream",
     "text": [
      "Population incidence: 0.5%\n",
      "Viral conductance: 30.0%\n",
      "Average pod size: 5\n",
      "Convergence probability of infection: 68.11%\n"
     ]
    }
   ],
   "source": [
    "P_0=0.005\n",
    "P_t=0.3\n",
    "n=5\n",
    "\n",
    "make_report(P_0, P_t, n)"
   ]
  },
  {
   "cell_type": "code",
   "execution_count": 34,
   "metadata": {},
   "outputs": [
    {
     "name": "stdout",
     "output_type": "stream",
     "text": [
      "Population incidence: 0.5%\n",
      "Viral conductance: 20.0%\n",
      "Average pod size: 5\n",
      "Convergence probability of infection: 0.17%\n"
     ]
    }
   ],
   "source": [
    "P_0=0.005\n",
    "P_t=0.2\n",
    "n=5\n",
    "\n",
    "make_report(P_0, P_t, n)"
   ]
  },
  {
   "cell_type": "markdown",
   "metadata": {},
   "source": [
    "Not the _sudden rise_ in convergence probability between viral conductances of 20% and 30%, from rare to probable."
   ]
  },
  {
   "cell_type": "code",
   "execution_count": 36,
   "metadata": {},
   "outputs": [],
   "source": [
    "P_t = np.linspace(0,1,200)\n",
    "P = [find_metapod_risk(P_0=0.005, P_t=P_t_i, n=5, n_generations=1000) for P_t_i in P_t]"
   ]
  },
  {
   "cell_type": "code",
   "execution_count": 39,
   "metadata": {},
   "outputs": [
    {
     "data": {
      "text/plain": [
       "Text(0, 0.5, 'Convergence infection probability')"
      ]
     },
     "execution_count": 39,
     "metadata": {},
     "output_type": "execute_result"
    },
    {
     "data": {
      "image/png": "[encoded data removed]",
      "text/plain": [
       "<Figure size 432x288 with 1 Axes>"
      ]
     },
     "metadata": {
      "needs_background": "light"
     },
     "output_type": "display_data"
    }
   ],
   "source": [
    "plt.plot(P_t, P)\n",
    "plt.xlabel(\"Disease conductance $P_t$\")\n",
    "plt.ylabel(\"Convergence infection probability\")"
   ]
  },
  {
   "cell_type": "markdown",
   "metadata": {},
   "source": [
    "The probabiliy between generations will converge when it doesn't change. In other words: "
   ]
  },
  {
   "cell_type": "markdown",
   "metadata": {},
   "source": [
    "$$ P_{conv} = 1 - (1-P_t \\cdot P_{conv})^n $$"
   ]
  },
  {
   "cell_type": "markdown",
   "metadata": {},
   "source": [
    "aaaaand if you can solve that, that's neat, because I can't.\n",
    "\n",
    "But we can figure out the inflection point _by inspection_. If $P_t < \\frac{1}{n}$, then the probability of infection will drop with each generation, converging on zero."
   ]
  },
  {
   "cell_type": "markdown",
   "metadata": {},
   "source": [
    "## Conclusion"
   ]
  },
  {
   "cell_type": "markdown",
   "metadata": {},
   "source": [
    "A few things to note:\n",
    "    \n",
    "* The convergence probability **does not depend on the background disease incidence**. Leaky pods and an arbitrarily high disease conductance $P_t$ will have an infection probability approaching 1.\n",
    "* Even for arbitrarily large pods, forming networks spanning every human, the **infection probability approaches 0** for disease conductance values inversely proportional to average pod size.\n",
    "* Even for disease conductance values above that critical threshold, the convergance value is never 1; it can be < 0.5 for some values above the critical threshold."
   ]
  },
  {
   "cell_type": "code",
   "execution_count": null,
   "metadata": {},
   "outputs": [],
   "source": []
  }
 ],
 "metadata": {
  "kernelspec": {
   "display_name": "Python 3",
   "language": "python",
   "name": "python3"
  },
  "language_info": {
   "codemirror_mode": {
    "name": "ipython",
    "version": 3
   },
   "file_extension": ".py",
   "mimetype": "text/x-python",
   "name": "python",
   "nbconvert_exporter": "python",
   "pygments_lexer": "ipython3",
   "version": "3.7.4"
  }
 },
 "nbformat": 4,
 "nbformat_minor": 4
}
